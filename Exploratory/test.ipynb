{
 "cells": [
  {
   "cell_type": "markdown",
   "metadata": {},
   "source": [
    "# Test case\n",
    "Opis."
   ]
  },
  {
   "cell_type": "code",
   "execution_count": 6,
   "metadata": {},
   "outputs": [],
   "source": [
    "import pandas as pd\n",
    "import numpy as np"
   ]
  },
  {
   "cell_type": "code",
   "execution_count": 7,
   "metadata": {
    "collapsed": true
   },
   "outputs": [],
   "source": [
    "dataDir = \"../Data/Reims/\""
   ]
  },
  {
   "cell_type": "code",
   "execution_count": 14,
   "metadata": {},
   "outputs": [
    {
     "name": "stderr",
     "output_type": "stream",
     "text": [
      "C:\\Users\\kkenda\\Anaconda3\\lib\\site-packages\\IPython\\core\\interactiveshell.py:2717: DtypeWarning: Columns (0,2,3,4,5,6,7,8,9,10,11,12,13,14,15,16,17,18,19,20,21,22,23,24,25,26,27,28,29,30,31,32,33,34,35,36,37,38,39,40,41,42) have mixed types. Specify dtype option on import or set low_memory=False.\n",
      "  interactivity=interactivity, compiler=compiler, result=result)\n"
     ]
    }
   ],
   "source": [
    "df = pd.read_csv(dataDir + \"170830-noheader.csv\")"
   ]
  },
  {
   "cell_type": "code",
   "execution_count": 17,
   "metadata": {},
   "outputs": [],
   "source": [
    "df.drop('Logic', 1, inplace=True)"
   ]
  },
  {
   "cell_type": "code",
   "execution_count": 35,
   "metadata": {
    "collapsed": true
   },
   "outputs": [],
   "source": [
    "df.drop(0, 0, inplace=True)"
   ]
  },
  {
   "cell_type": "code",
   "execution_count": 37,
   "metadata": {},
   "outputs": [],
   "source": [
    "df['Date'] = df['Date&Time'];\n",
    "df['Date'] = pd.to_datetime(df['Date'], format='%Y-%m-%d %H:%M:%S');\n"
   ]
  },
  {
   "cell_type": "code",
   "execution_count": 27,
   "metadata": {},
   "outputs": [
    {
     "data": {
      "text/plain": [
       "'2017-08-30 04:36:30'"
      ]
     },
     "execution_count": 27,
     "metadata": {},
     "output_type": "execute_result"
    }
   ],
   "source": [
    "df[\"Date&Time\"][1]"
   ]
  },
  {
   "cell_type": "code",
   "execution_count": 32,
   "metadata": {},
   "outputs": [
    {
     "data": {
      "text/plain": [
       "datetime.datetime(2017, 8, 30, 4, 36, 30)"
      ]
     },
     "execution_count": 32,
     "metadata": {},
     "output_type": "execute_result"
    }
   ],
   "source": [
    "from datetime import datetime\n",
    "datetime.strptime('2017-08-30 04:36:30', '%Y-%m-%d %H:%M:%S')"
   ]
  },
  {
   "cell_type": "code",
   "execution_count": 41,
   "metadata": {},
   "outputs": [
    {
     "data": {
      "text/html": [
       "<div>\n",
       "<style>\n",
       "    .dataframe thead tr:only-child th {\n",
       "        text-align: right;\n",
       "    }\n",
       "\n",
       "    .dataframe thead th {\n",
       "        text-align: left;\n",
       "    }\n",
       "\n",
       "    .dataframe tbody tr th {\n",
       "        vertical-align: top;\n",
       "    }\n",
       "</style>\n",
       "<table border=\"1\" class=\"dataframe\">\n",
       "  <thead>\n",
       "    <tr style=\"text-align: right;\">\n",
       "      <th></th>\n",
       "      <th>Number</th>\n",
       "      <th>Date&amp;Time</th>\n",
       "      <th>ms</th>\n",
       "      <th>CH1</th>\n",
       "      <th>CH2</th>\n",
       "      <th>CH3</th>\n",
       "      <th>CH4</th>\n",
       "      <th>CH5</th>\n",
       "      <th>CH6</th>\n",
       "      <th>CH7</th>\n",
       "      <th>...</th>\n",
       "      <th>CH38</th>\n",
       "      <th>CH39</th>\n",
       "      <th>CH40</th>\n",
       "      <th>Alarm1-10</th>\n",
       "      <th>Alarm11-20</th>\n",
       "      <th>Alarm21-30</th>\n",
       "      <th>Alarm31-40</th>\n",
       "      <th>AlarmLP</th>\n",
       "      <th>AlarmOut</th>\n",
       "      <th>Date</th>\n",
       "    </tr>\n",
       "  </thead>\n",
       "  <tbody>\n",
       "    <tr>\n",
       "      <th>count</th>\n",
       "      <td>71280.0</td>\n",
       "      <td>71280</td>\n",
       "      <td>71280.0</td>\n",
       "      <td>71280.0</td>\n",
       "      <td>71280.0</td>\n",
       "      <td>71280.0</td>\n",
       "      <td>71280.0</td>\n",
       "      <td>71280.0</td>\n",
       "      <td>71280.00</td>\n",
       "      <td>71280.00</td>\n",
       "      <td>...</td>\n",
       "      <td>71280.0</td>\n",
       "      <td>71280.0</td>\n",
       "      <td>71280.0</td>\n",
       "      <td>71280</td>\n",
       "      <td>71280</td>\n",
       "      <td>71280</td>\n",
       "      <td>71280</td>\n",
       "      <td>71280</td>\n",
       "      <td>71280</td>\n",
       "      <td>71280</td>\n",
       "    </tr>\n",
       "    <tr>\n",
       "      <th>unique</th>\n",
       "      <td>71280.0</td>\n",
       "      <td>35640</td>\n",
       "      <td>4.0</td>\n",
       "      <td>62.0</td>\n",
       "      <td>58.0</td>\n",
       "      <td>21558.0</td>\n",
       "      <td>22051.0</td>\n",
       "      <td>557.0</td>\n",
       "      <td>5695.00</td>\n",
       "      <td>666.00</td>\n",
       "      <td>...</td>\n",
       "      <td>7.0</td>\n",
       "      <td>6.0</td>\n",
       "      <td>6.0</td>\n",
       "      <td>1</td>\n",
       "      <td>1</td>\n",
       "      <td>1</td>\n",
       "      <td>1</td>\n",
       "      <td>1</td>\n",
       "      <td>1</td>\n",
       "      <td>35640</td>\n",
       "    </tr>\n",
       "    <tr>\n",
       "      <th>top</th>\n",
       "      <td>28727.0</td>\n",
       "      <td>2017-08-30 09:09:34</td>\n",
       "      <td>500.0</td>\n",
       "      <td>23.1</td>\n",
       "      <td>23.1</td>\n",
       "      <td>15546.0</td>\n",
       "      <td>59101.0</td>\n",
       "      <td>28.8</td>\n",
       "      <td>-0.09</td>\n",
       "      <td>1.09</td>\n",
       "      <td>...</td>\n",
       "      <td>0.0</td>\n",
       "      <td>0.0</td>\n",
       "      <td>0.0</td>\n",
       "      <td>LLLLLLLLLL</td>\n",
       "      <td>LLLLLLLLLL</td>\n",
       "      <td>LLLLLLLLLL</td>\n",
       "      <td>LLLLLLLLLL</td>\n",
       "      <td>LLLL</td>\n",
       "      <td>LLLL</td>\n",
       "      <td>2017-08-30 09:32:12</td>\n",
       "    </tr>\n",
       "    <tr>\n",
       "      <th>freq</th>\n",
       "      <td>1.0</td>\n",
       "      <td>2</td>\n",
       "      <td>27449.0</td>\n",
       "      <td>8615.0</td>\n",
       "      <td>5472.0</td>\n",
       "      <td>648.0</td>\n",
       "      <td>824.0</td>\n",
       "      <td>1199.0</td>\n",
       "      <td>4250.00</td>\n",
       "      <td>4692.00</td>\n",
       "      <td>...</td>\n",
       "      <td>38162.0</td>\n",
       "      <td>37743.0</td>\n",
       "      <td>44252.0</td>\n",
       "      <td>71280</td>\n",
       "      <td>71280</td>\n",
       "      <td>71280</td>\n",
       "      <td>71280</td>\n",
       "      <td>71280</td>\n",
       "      <td>71280</td>\n",
       "      <td>2</td>\n",
       "    </tr>\n",
       "    <tr>\n",
       "      <th>first</th>\n",
       "      <td>NaN</td>\n",
       "      <td>NaN</td>\n",
       "      <td>NaN</td>\n",
       "      <td>NaN</td>\n",
       "      <td>NaN</td>\n",
       "      <td>NaN</td>\n",
       "      <td>NaN</td>\n",
       "      <td>NaN</td>\n",
       "      <td>NaN</td>\n",
       "      <td>NaN</td>\n",
       "      <td>...</td>\n",
       "      <td>NaN</td>\n",
       "      <td>NaN</td>\n",
       "      <td>NaN</td>\n",
       "      <td>NaN</td>\n",
       "      <td>NaN</td>\n",
       "      <td>NaN</td>\n",
       "      <td>NaN</td>\n",
       "      <td>NaN</td>\n",
       "      <td>NaN</td>\n",
       "      <td>2017-08-30 04:36:30</td>\n",
       "    </tr>\n",
       "    <tr>\n",
       "      <th>last</th>\n",
       "      <td>NaN</td>\n",
       "      <td>NaN</td>\n",
       "      <td>NaN</td>\n",
       "      <td>NaN</td>\n",
       "      <td>NaN</td>\n",
       "      <td>NaN</td>\n",
       "      <td>NaN</td>\n",
       "      <td>NaN</td>\n",
       "      <td>NaN</td>\n",
       "      <td>NaN</td>\n",
       "      <td>...</td>\n",
       "      <td>NaN</td>\n",
       "      <td>NaN</td>\n",
       "      <td>NaN</td>\n",
       "      <td>NaN</td>\n",
       "      <td>NaN</td>\n",
       "      <td>NaN</td>\n",
       "      <td>NaN</td>\n",
       "      <td>NaN</td>\n",
       "      <td>NaN</td>\n",
       "      <td>2017-08-30 14:30:29</td>\n",
       "    </tr>\n",
       "  </tbody>\n",
       "</table>\n",
       "<p>6 rows × 50 columns</p>\n",
       "</div>"
      ],
      "text/plain": [
       "         Number            Date&Time       ms      CH1      CH2      CH3  \\\n",
       "count   71280.0                71280  71280.0  71280.0  71280.0  71280.0   \n",
       "unique  71280.0                35640      4.0     62.0     58.0  21558.0   \n",
       "top     28727.0  2017-08-30 09:09:34    500.0     23.1     23.1  15546.0   \n",
       "freq        1.0                    2  27449.0   8615.0   5472.0    648.0   \n",
       "first       NaN                  NaN      NaN      NaN      NaN      NaN   \n",
       "last        NaN                  NaN      NaN      NaN      NaN      NaN   \n",
       "\n",
       "            CH4      CH5       CH6       CH7         ...              CH38  \\\n",
       "count   71280.0  71280.0  71280.00  71280.00         ...           71280.0   \n",
       "unique  22051.0    557.0   5695.00    666.00         ...               7.0   \n",
       "top     59101.0     28.8     -0.09      1.09         ...               0.0   \n",
       "freq      824.0   1199.0   4250.00   4692.00         ...           38162.0   \n",
       "first       NaN      NaN       NaN       NaN         ...               NaN   \n",
       "last        NaN      NaN       NaN       NaN         ...               NaN   \n",
       "\n",
       "           CH39     CH40   Alarm1-10  Alarm11-20  Alarm21-30  Alarm31-40  \\\n",
       "count   71280.0  71280.0       71280       71280       71280       71280   \n",
       "unique      6.0      6.0           1           1           1           1   \n",
       "top         0.0      0.0  LLLLLLLLLL  LLLLLLLLLL  LLLLLLLLLL  LLLLLLLLLL   \n",
       "freq    37743.0  44252.0       71280       71280       71280       71280   \n",
       "first       NaN      NaN         NaN         NaN         NaN         NaN   \n",
       "last        NaN      NaN         NaN         NaN         NaN         NaN   \n",
       "\n",
       "        AlarmLP  AlarmOut                 Date  \n",
       "count     71280     71280                71280  \n",
       "unique        1         1                35640  \n",
       "top        LLLL      LLLL  2017-08-30 09:32:12  \n",
       "freq      71280     71280                    2  \n",
       "first       NaN       NaN  2017-08-30 04:36:30  \n",
       "last        NaN       NaN  2017-08-30 14:30:29  \n",
       "\n",
       "[6 rows x 50 columns]"
      ]
     },
     "execution_count": 41,
     "metadata": {},
     "output_type": "execute_result"
    }
   ],
   "source": [
    "df.describe()"
   ]
  },
  {
   "cell_type": "code",
   "execution_count": null,
   "metadata": {
    "collapsed": true
   },
   "outputs": [],
   "source": []
  }
 ],
 "metadata": {
  "kernelspec": {
   "display_name": "Python 3",
   "language": "python",
   "name": "python3"
  },
  "language_info": {
   "codemirror_mode": {
    "name": "ipython",
    "version": 3
   },
   "file_extension": ".py",
   "mimetype": "text/x-python",
   "name": "python",
   "nbconvert_exporter": "python",
   "pygments_lexer": "ipython3",
   "version": "3.6.1"
  }
 },
 "nbformat": 4,
 "nbformat_minor": 2
}
