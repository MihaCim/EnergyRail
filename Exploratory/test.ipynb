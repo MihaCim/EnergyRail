{
 "cells": [
  {
   "cell_type": "markdown",
   "metadata": {},
   "source": [
    "# Test case\n",
    "Opis."
   ]
  },
  {
   "cell_type": "code",
   "execution_count": 11,
   "metadata": {
    "collapsed": true
   },
   "outputs": [],
   "source": [
    "import pandas as pd\n",
    "import numpy as np"
   ]
  },
  {
   "cell_type": "code",
   "execution_count": 12,
   "metadata": {
    "collapsed": true
   },
   "outputs": [],
   "source": [
    "dataDir = \"../Data/Reims/\""
   ]
  },
  {
   "cell_type": "code",
   "execution_count": 46,
   "metadata": {},
   "outputs": [
    {
     "name": "stderr",
     "output_type": "stream",
     "text": [
      "C:\\Users\\Matej\\Anaconda3\\lib\\site-packages\\IPython\\core\\interactiveshell.py:2698: DtypeWarning: Columns (0,2,3,4,5,6,7,8,9,10,11,12,13,14,15,16,17,18,19,20,21,22,23,24,25,26,27,28,29,30,31,32,33,34,35,36,37,38,39,40,41,42) have mixed types. Specify dtype option on import or set low_memory=False.\n",
      "  interactivity=interactivity, compiler=compiler, result=result)\n"
     ]
    }
   ],
   "source": [
    "df = pd.read_csv(dataDir + \"170830-noheader.csv\")"
   ]
  },
  {
   "cell_type": "code",
   "execution_count": 35,
   "metadata": {},
   "outputs": [],
   "source": [
    "df.drop('Logic', 1, inplace=True)"
   ]
  },
  {
   "cell_type": "code",
   "execution_count": 14,
   "metadata": {
    "collapsed": true
   },
   "outputs": [],
   "source": [
    "df.drop(0, 0, inplace=True)"
   ]
  },
  {
   "cell_type": "code",
   "execution_count": 15,
   "metadata": {
    "collapsed": true
   },
   "outputs": [],
   "source": [
    "df['Date'] = df['Date&Time'];\n",
    "df['Date'] = pd.to_datetime(df['Date'], format='%Y-%m-%d %H:%M:%S');\n"
   ]
  },
  {
   "cell_type": "code",
   "execution_count": 16,
   "metadata": {},
   "outputs": [
    {
     "data": {
      "text/plain": [
       "'2017-08-30 04:36:30'"
      ]
     },
     "execution_count": 16,
     "metadata": {},
     "output_type": "execute_result"
    }
   ],
   "source": [
    "df[\"Date&Time\"][1]"
   ]
  },
  {
   "cell_type": "code",
   "execution_count": 17,
   "metadata": {},
   "outputs": [
    {
     "data": {
      "text/plain": [
       "datetime.datetime(2017, 8, 30, 4, 36, 30)"
      ]
     },
     "execution_count": 17,
     "metadata": {},
     "output_type": "execute_result"
    }
   ],
   "source": [
    "from datetime import datetime\n",
    "datetime.strptime('2017-08-30 04:36:30', '%Y-%m-%d %H:%M:%S')"
   ]
  },
  {
   "cell_type": "code",
   "execution_count": 49,
   "metadata": {},
   "outputs": [
    {
     "data": {
      "text/html": [
       "<div>\n",
       "<style>\n",
       "    .dataframe thead tr:only-child th {\n",
       "        text-align: right;\n",
       "    }\n",
       "\n",
       "    .dataframe thead th {\n",
       "        text-align: left;\n",
       "    }\n",
       "\n",
       "    .dataframe tbody tr th {\n",
       "        vertical-align: top;\n",
       "    }\n",
       "</style>\n",
       "<table border=\"1\" class=\"dataframe\">\n",
       "  <thead>\n",
       "    <tr style=\"text-align: right;\">\n",
       "      <th></th>\n",
       "      <th>Number</th>\n",
       "      <th>Date&amp;Time</th>\n",
       "      <th>ms</th>\n",
       "      <th>CH1</th>\n",
       "      <th>CH2</th>\n",
       "      <th>CH3</th>\n",
       "      <th>CH4</th>\n",
       "      <th>CH5</th>\n",
       "      <th>CH6</th>\n",
       "      <th>CH7</th>\n",
       "      <th>...</th>\n",
       "      <th>CH11</th>\n",
       "      <th>CH12</th>\n",
       "      <th>CH13</th>\n",
       "      <th>CH14</th>\n",
       "      <th>CH15</th>\n",
       "      <th>CH16</th>\n",
       "      <th>CH17</th>\n",
       "      <th>CH18</th>\n",
       "      <th>CH19</th>\n",
       "      <th>CH20</th>\n",
       "    </tr>\n",
       "  </thead>\n",
       "  <tbody>\n",
       "    <tr>\n",
       "      <th>count</th>\n",
       "      <td>71281</td>\n",
       "      <td>71281</td>\n",
       "      <td>71281</td>\n",
       "      <td>71281.0</td>\n",
       "      <td>71281.0</td>\n",
       "      <td>71281</td>\n",
       "      <td>71281</td>\n",
       "      <td>71281.0</td>\n",
       "      <td>71281.00</td>\n",
       "      <td>71281.00</td>\n",
       "      <td>...</td>\n",
       "      <td>71281.0</td>\n",
       "      <td>71281.0</td>\n",
       "      <td>71281.0</td>\n",
       "      <td>71281.0</td>\n",
       "      <td>71281.00</td>\n",
       "      <td>71281.0</td>\n",
       "      <td>71281.0</td>\n",
       "      <td>71281.0</td>\n",
       "      <td>71281.0</td>\n",
       "      <td>71281.00</td>\n",
       "    </tr>\n",
       "    <tr>\n",
       "      <th>unique</th>\n",
       "      <td>71281</td>\n",
       "      <td>35641</td>\n",
       "      <td>5</td>\n",
       "      <td>63.0</td>\n",
       "      <td>59.0</td>\n",
       "      <td>21559</td>\n",
       "      <td>22052</td>\n",
       "      <td>558.0</td>\n",
       "      <td>5696.00</td>\n",
       "      <td>667.00</td>\n",
       "      <td>...</td>\n",
       "      <td>1236.0</td>\n",
       "      <td>1238.0</td>\n",
       "      <td>806.0</td>\n",
       "      <td>843.0</td>\n",
       "      <td>74.00</td>\n",
       "      <td>11749.0</td>\n",
       "      <td>2813.0</td>\n",
       "      <td>518.0</td>\n",
       "      <td>1106.0</td>\n",
       "      <td>1338.00</td>\n",
       "    </tr>\n",
       "    <tr>\n",
       "      <th>top</th>\n",
       "      <td>11208</td>\n",
       "      <td>2017-08-30 05:19:47</td>\n",
       "      <td>500</td>\n",
       "      <td>23.1</td>\n",
       "      <td>23.1</td>\n",
       "      <td>15546</td>\n",
       "      <td>59101</td>\n",
       "      <td>28.8</td>\n",
       "      <td>-0.09</td>\n",
       "      <td>1.09</td>\n",
       "      <td>...</td>\n",
       "      <td>2.0</td>\n",
       "      <td>6.8</td>\n",
       "      <td>16.4</td>\n",
       "      <td>2.4</td>\n",
       "      <td>23.86</td>\n",
       "      <td>0.4</td>\n",
       "      <td>814.0</td>\n",
       "      <td>12.0</td>\n",
       "      <td>350.9</td>\n",
       "      <td>1.58</td>\n",
       "    </tr>\n",
       "    <tr>\n",
       "      <th>freq</th>\n",
       "      <td>1</td>\n",
       "      <td>2</td>\n",
       "      <td>27449</td>\n",
       "      <td>8615.0</td>\n",
       "      <td>5472.0</td>\n",
       "      <td>648</td>\n",
       "      <td>824</td>\n",
       "      <td>1199.0</td>\n",
       "      <td>4250.00</td>\n",
       "      <td>4692.00</td>\n",
       "      <td>...</td>\n",
       "      <td>8763.0</td>\n",
       "      <td>10426.0</td>\n",
       "      <td>19277.0</td>\n",
       "      <td>19678.0</td>\n",
       "      <td>23993.00</td>\n",
       "      <td>943.0</td>\n",
       "      <td>354.0</td>\n",
       "      <td>823.0</td>\n",
       "      <td>917.0</td>\n",
       "      <td>2867.00</td>\n",
       "    </tr>\n",
       "  </tbody>\n",
       "</table>\n",
       "<p>4 rows × 23 columns</p>\n",
       "</div>"
      ],
      "text/plain": [
       "       Number            Date&Time     ms      CH1      CH2    CH3    CH4  \\\n",
       "count   71281                71281  71281  71281.0  71281.0  71281  71281   \n",
       "unique  71281                35641      5     63.0     59.0  21559  22052   \n",
       "top     11208  2017-08-30 05:19:47    500     23.1     23.1  15546  59101   \n",
       "freq        1                    2  27449   8615.0   5472.0    648    824   \n",
       "\n",
       "            CH5       CH6       CH7    ...        CH11     CH12     CH13  \\\n",
       "count   71281.0  71281.00  71281.00    ...     71281.0  71281.0  71281.0   \n",
       "unique    558.0   5696.00    667.00    ...      1236.0   1238.0    806.0   \n",
       "top        28.8     -0.09      1.09    ...         2.0      6.8     16.4   \n",
       "freq     1199.0   4250.00   4692.00    ...      8763.0  10426.0  19277.0   \n",
       "\n",
       "           CH14      CH15     CH16     CH17     CH18     CH19      CH20  \n",
       "count   71281.0  71281.00  71281.0  71281.0  71281.0  71281.0  71281.00  \n",
       "unique    843.0     74.00  11749.0   2813.0    518.0   1106.0   1338.00  \n",
       "top         2.4     23.86      0.4    814.0     12.0    350.9      1.58  \n",
       "freq    19678.0  23993.00    943.0    354.0    823.0    917.0   2867.00  \n",
       "\n",
       "[4 rows x 23 columns]"
      ]
     },
     "execution_count": 49,
     "metadata": {},
     "output_type": "execute_result"
    }
   ],
   "source": [
    "df.describe()"
   ]
  },
  {
   "cell_type": "code",
   "execution_count": 47,
   "metadata": {},
   "outputs": [],
   "source": [
    "df.drop('Logic', 1, inplace=True)\n",
    "df.drop('Alarm1-10',1, inplace=True)\n",
    "df.drop('Alarm11-20',1, inplace=True)\n",
    "df.drop('Alarm21-30',1, inplace=True)\n",
    "df.drop('Alarm31-40',1, inplace=True)\n",
    "df.drop('AlarmLP',1, inplace=True)\n",
    "df.drop('AlarmOut',1, inplace=True)"
   ]
  },
  {
   "cell_type": "code",
   "execution_count": 48,
   "metadata": {},
   "outputs": [],
   "source": [
    "i=21\n",
    "while i != 41:\n",
    "    j=str(i)\n",
    "    df.drop('CH'+j, 1, inplace=True)\n",
    "    i+=1    "
   ]
  },
  {
   "cell_type": "code",
   "execution_count": null,
   "metadata": {
    "collapsed": true
   },
   "outputs": [],
   "source": []
  }
 ],
 "metadata": {
  "kernelspec": {
   "display_name": "Python 3",
   "language": "python",
   "name": "python3"
  },
  "language_info": {
   "codemirror_mode": {
    "name": "ipython",
    "version": 3
   },
   "file_extension": ".py",
   "mimetype": "text/x-python",
   "name": "python",
   "nbconvert_exporter": "python",
   "pygments_lexer": "ipython3",
   "version": "3.6.3"
  }
 },
 "nbformat": 4,
 "nbformat_minor": 2
}
