{
 "cells": [
  {
   "cell_type": "markdown",
   "metadata": {},
   "source": [
    "# Data preparation\n",
    "\n",
    "This program prepares data."
   ]
  },
  {
   "cell_type": "code",
   "execution_count": 83,
   "metadata": {
    "collapsed": true
   },
   "outputs": [],
   "source": [
    "# import libraries\n",
    "\n",
    "import pandas as pd\n",
    "import numpy as np"
   ]
  },
  {
   "cell_type": "markdown",
   "metadata": {},
   "source": [
    "## Loading data"
   ]
  },
  {
   "cell_type": "code",
   "execution_count": 53,
   "metadata": {
    "scrolled": true
   },
   "outputs": [
    {
     "name": "stderr",
     "output_type": "stream",
     "text": [
      "C:\\Anaconda\\lib\\site-packages\\IPython\\core\\interactiveshell.py:2698: DtypeWarning: Columns (0,2,3,4,5,6,7,8,9,10,11,12,13,14,15,16,17,18,19,20,21,22,23,24,25,26,27,28,29,30,31,32,33,34,35,36,37,38,39,40,41,42) have mixed types. Specify dtype option on import or set low_memory=False.\n",
      "  interactivity=interactivity, compiler=compiler, result=result)\n"
     ]
    }
   ],
   "source": [
    "# Data is loaded in df. dataDir tell us folder of file.\n",
    "\n",
    "dataDir = \"../Data/Reims/\"\n",
    "df = pd.read_csv(dataDir + \"170830-noheader.csv\")"
   ]
  },
  {
   "cell_type": "code",
   "execution_count": 56,
   "metadata": {},
   "outputs": [],
   "source": [
    "# Data in list are unuseful so we can delete them. ALso data from CH21 to CH40 are unuseful.\n",
    "\n",
    "list_unused = [\"Logic\", \"Alarm1-10\", \"Alarm11-20\", \"Alarm21-30\", \"Alarm31-40\", \"AlarmLP\", \"AlarmOut\"]\n",
    "\n",
    "for element in list_unused:\n",
    "    df.drop(element, 1, inplace=True)\n",
    "    \n",
    "for i in range(21, 41):\n",
    "    df.drop(\"CH\" + str(i), 1, inplace=True)\n",
    "\n",
    "# In firs line we have units. We can delete them. \n",
    "df.drop(0, 0, inplace=True)"
   ]
  },
  {
   "cell_type": "markdown",
   "metadata": {},
   "source": [
    "## Converting data"
   ]
  },
  {
   "cell_type": "code",
   "execution_count": 78,
   "metadata": {},
   "outputs": [],
   "source": [
    "# Converting string to float.\n",
    "df[\"ms\"] = pd.to_numeric(df[\"ms\"])\n",
    "\n",
    "for i in range(1, 21):\n",
    "    df[\"CH\" + str(i)] = pd.to_numeric(df[\"CH\" + str(i)])"
   ]
  },
  {
   "cell_type": "code",
   "execution_count": 81,
   "metadata": {},
   "outputs": [],
   "source": [
    "# Converting time and apending milliseconds.\n",
    "df[\"Date&Time\"] = pd.to_datetime(df[\"Date&Time\"], format=\"%Y-%m-%d %H:%M:%S\")\n",
    "df[\"Date&Time\"] = pd.to_datetime(((df[\"Date&Time\"].astype (np.int64) / 1000000).astype (np.int64) + df[\"ms\"]), unit=\"ms\")\n"
   ]
  }
 ],
 "metadata": {
  "kernelspec": {
   "display_name": "Python 3",
   "language": "python",
   "name": "python3"
  },
  "language_info": {
   "codemirror_mode": {
    "name": "ipython",
    "version": 3
   },
   "file_extension": ".py",
   "mimetype": "text/x-python",
   "name": "python",
   "nbconvert_exporter": "python",
   "pygments_lexer": "ipython3",
   "version": "3.6.3"
  }
 },
 "nbformat": 4,
 "nbformat_minor": 2
}
