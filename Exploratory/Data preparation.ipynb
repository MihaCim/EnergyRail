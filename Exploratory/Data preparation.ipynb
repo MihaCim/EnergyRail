{
 "cells": [
  {
   "cell_type": "markdown",
   "metadata": {},
   "source": [
    "# Data preparation\n",
    "\n",
    "This program prepares data."
   ]
  },
  {
   "cell_type": "code",
   "execution_count": 70,
   "metadata": {
    "collapsed": true
   },
   "outputs": [],
   "source": [
    "# import libraries\n",
    "\n",
    "import pandas as pd\n",
    "import numpy as np\n",
    "\n",
    "# plotting\n",
    "import matplotlib.pyplot as plt"
   ]
  },
  {
   "cell_type": "markdown",
   "metadata": {},
   "source": [
    "## Loading data"
   ]
  },
  {
   "cell_type": "code",
   "execution_count": 71,
   "metadata": {
    "scrolled": true
   },
   "outputs": [
    {
     "name": "stderr",
     "output_type": "stream",
     "text": [
      "C:\\Anaconda\\lib\\site-packages\\IPython\\core\\interactiveshell.py:2698: DtypeWarning: Columns (0,2,3,4,5,6,7,8,9,10,11,12,13,14,15,16,17,18,19,20,21,22,23,24,25,26,27,28,29,30,31,32,33,34,35,36,37,38,39,40,41,42) have mixed types. Specify dtype option on import or set low_memory=False.\n",
      "  interactivity=interactivity, compiler=compiler, result=result)\n"
     ]
    }
   ],
   "source": [
    "# Data is loaded in df. dataDir tell us folder of file.\n",
    "\n",
    "dataDir = \"../Data/Reims/\"\n",
    "df = pd.read_csv(dataDir + \"170830-noheader.csv\")"
   ]
  },
  {
   "cell_type": "code",
   "execution_count": 72,
   "metadata": {
    "collapsed": true
   },
   "outputs": [],
   "source": [
    "# Data in list are unuseful so we can delete them. ALso data from CH21 to CH40 are unuseful.\n",
    "\n",
    "list_unused = [\"Logic\", \"Alarm1-10\", \"Alarm11-20\", \"Alarm21-30\", \"Alarm31-40\", \"AlarmLP\", \"AlarmOut\"]\n",
    "\n",
    "for element in list_unused:\n",
    "    df.drop(element, 1, inplace=True)\n",
    "    \n",
    "for i in range(21, 41):\n",
    "    df.drop(\"CH\" + str(i), 1, inplace=True)\n",
    "\n",
    "# In firs line we have units. We can delete them. \n",
    "df.drop(0, 0, inplace=True)"
   ]
  },
  {
   "cell_type": "markdown",
   "metadata": {},
   "source": [
    "## Converting data"
   ]
  },
  {
   "cell_type": "code",
   "execution_count": 73,
   "metadata": {
    "collapsed": true
   },
   "outputs": [],
   "source": [
    "# Converting string to float.\n",
    "df[\"ms\"] = pd.to_numeric(df[\"ms\"])\n",
    "\n",
    "for i in range(1, 21):\n",
    "    df[\"CH\" + str(i)] = pd.to_numeric(df[\"CH\" + str(i)])"
   ]
  },
  {
   "cell_type": "code",
   "execution_count": 74,
   "metadata": {
    "collapsed": true
   },
   "outputs": [],
   "source": [
    "# Converting time and apending milliseconds.\n",
    "df[\"Date&Time\"] = pd.to_datetime(df[\"Date&Time\"], format=\"%Y-%m-%d %H:%M:%S\")\n",
    "df[\"Date&Time\"] = pd.to_datetime(((df[\"Date&Time\"].astype (np.int64) / 1000000).astype (np.int64) + df[\"ms\"]), unit=\"ms\")\n",
    "df = df.set_index(\"Date&Time\")\n"
   ]
  },
  {
   "cell_type": "code",
   "execution_count": 2,
   "metadata": {},
   "outputs": [
    {
     "ename": "NameError",
     "evalue": "name 'pd' is not defined",
     "output_type": "error",
     "traceback": [
      "\u001b[1;31m---------------------------------------------------------------------------\u001b[0m",
      "\u001b[1;31mNameError\u001b[0m                                 Traceback (most recent call last)",
      "\u001b[1;32m<ipython-input-2-c3992ed8f0ea>\u001b[0m in \u001b[0;36m<module>\u001b[1;34m()\u001b[0m\n\u001b[1;32m----> 1\u001b[1;33m \u001b[0mdf2\u001b[0m \u001b[1;33m=\u001b[0m \u001b[0mpd\u001b[0m\u001b[1;33m.\u001b[0m\u001b[0mDataFrame\u001b[0m\u001b[1;33m(\u001b[0m\u001b[0mdf\u001b[0m\u001b[1;33m)\u001b[0m\u001b[1;33m[\u001b[0m\u001b[1;33m:\u001b[0m\u001b[1;36m60\u001b[0m\u001b[1;33m]\u001b[0m\u001b[1;33m.\u001b[0m\u001b[0mcopy\u001b[0m\u001b[1;33m(\u001b[0m\u001b[0mdeep\u001b[0m\u001b[1;33m=\u001b[0m\u001b[1;32mTrue\u001b[0m\u001b[1;33m)\u001b[0m\u001b[1;33m\u001b[0m\u001b[0m\n\u001b[0m",
      "\u001b[1;31mNameError\u001b[0m: name 'pd' is not defined"
     ]
    }
   ],
   "source": [
    "df2 = pd.DataFrame(df)[:60].copy(deep=True)"
   ]
  },
  {
   "cell_type": "code",
   "execution_count": 1,
   "metadata": {},
   "outputs": [
    {
     "ename": "NameError",
     "evalue": "name 'plt' is not defined",
     "output_type": "error",
     "traceback": [
      "\u001b[1;31m---------------------------------------------------------------------------\u001b[0m",
      "\u001b[1;31mNameError\u001b[0m                                 Traceback (most recent call last)",
      "\u001b[1;32m<ipython-input-1-5859f77d116c>\u001b[0m in \u001b[0;36m<module>\u001b[1;34m()\u001b[0m\n\u001b[0;32m      1\u001b[0m \u001b[1;32mfor\u001b[0m \u001b[0mi\u001b[0m \u001b[1;32min\u001b[0m \u001b[0mrange\u001b[0m\u001b[1;33m(\u001b[0m\u001b[1;36m1\u001b[0m\u001b[1;33m,\u001b[0m \u001b[1;36m21\u001b[0m\u001b[1;33m)\u001b[0m\u001b[1;33m:\u001b[0m\u001b[1;33m\u001b[0m\u001b[0m\n\u001b[1;32m----> 2\u001b[1;33m     \u001b[0mplt\u001b[0m\u001b[1;33m.\u001b[0m\u001b[0mfigure\u001b[0m\u001b[1;33m(\u001b[0m\u001b[0mi\u001b[0m\u001b[1;33m)\u001b[0m\u001b[1;33m\u001b[0m\u001b[0m\n\u001b[0m\u001b[0;32m      3\u001b[0m     \u001b[0mime\u001b[0m \u001b[1;33m=\u001b[0m \u001b[1;34m\"CH\"\u001b[0m \u001b[1;33m+\u001b[0m \u001b[0mstr\u001b[0m\u001b[1;33m(\u001b[0m\u001b[0mi\u001b[0m\u001b[1;33m)\u001b[0m\u001b[1;33m\u001b[0m\u001b[0m\n\u001b[0;32m      4\u001b[0m     \u001b[0mplt\u001b[0m\u001b[1;33m.\u001b[0m\u001b[0mylabel\u001b[0m\u001b[1;33m(\u001b[0m\u001b[0mime\u001b[0m\u001b[1;33m)\u001b[0m\u001b[1;33m\u001b[0m\u001b[0m\n\u001b[0;32m      5\u001b[0m     \u001b[0mplt\u001b[0m\u001b[1;33m.\u001b[0m\u001b[0mxlabel\u001b[0m\u001b[1;33m(\u001b[0m\u001b[1;34m\"Time\"\u001b[0m\u001b[1;33m)\u001b[0m\u001b[1;33m\u001b[0m\u001b[0m\n",
      "\u001b[1;31mNameError\u001b[0m: name 'plt' is not defined"
     ]
    }
   ],
   "source": [
    "for i in range(1, 21):\n",
    "    plt.figure(i)\n",
    "    ime = \"CH\" + str(i)\n",
    "    plt.ylabel(ime)\n",
    "    plt.xlabel(\"Time\")\n",
    "    plt.plot(df_p[ime]);\n",
    "    plt.show();\n",
    "    \n",
    "    plt.savefig(ime)"
   ]
  },
  {
   "cell_type": "code",
   "execution_count": 110,
   "metadata": {
    "collapsed": true
   },
   "outputs": [],
   "source": [
    "dict_offset = dict()"
   ]
  },
  {
   "cell_type": "code",
   "execution_count": 119,
   "metadata": {
    "collapsed": true
   },
   "outputs": [],
   "source": [
    "for i, mean in enumerate(df_p.mean()):\n",
    "    dict_offset [\"CH\" + str(i + 1)] = mean"
   ]
  },
  {
   "cell_type": "code",
   "execution_count": 120,
   "metadata": {},
   "outputs": [
    {
     "data": {
      "text/plain": [
       "{'CH1': 2.057613151685202e+108,\n",
       " 'CH10': 0.51500000000000012,\n",
       " 'CH11': -0.59166666666666645,\n",
       " 'CH12': 43.659666666666674,\n",
       " 'CH13': 1.7900000000000007,\n",
       " 'CH14': 6.7349999999999985,\n",
       " 'CH15': 16.080000000000005,\n",
       " 'CH16': 2.491666666666668,\n",
       " 'CH17': 23.876500000000021,\n",
       " 'CH18': 0.38999999999999996,\n",
       " 'CH19': 3.9350000000000001,\n",
       " 'CH2': 250.0,\n",
       " 'CH20': 0.57333333333333381,\n",
       " 'CH21': 2.0700000000000003,\n",
       " 'CH22': 0.066833333333333342,\n",
       " 'CH3': 22.823333333333309,\n",
       " 'CH4': 21.710000000000019,\n",
       " 'CH5': 32030.466666666667,\n",
       " 'CH6': 64290.366666666669,\n",
       " 'CH7': -2.2233333333333336,\n",
       " 'CH8': 61.712166666666668,\n",
       " 'CH9': -0.073166666666666644}"
      ]
     },
     "execution_count": 120,
     "metadata": {},
     "output_type": "execute_result"
    }
   ],
   "source": [
    "dict_offset"
   ]
  },
  {
   "cell_type": "code",
   "execution_count": null,
   "metadata": {
    "collapsed": true
   },
   "outputs": [],
   "source": []
  }
 ],
 "metadata": {
  "kernelspec": {
   "display_name": "Python 3",
   "language": "python",
   "name": "python3"
  },
  "language_info": {
   "codemirror_mode": {
    "name": "ipython",
    "version": 3
   },
   "file_extension": ".py",
   "mimetype": "text/x-python",
   "name": "python",
   "nbconvert_exporter": "python",
   "pygments_lexer": "ipython3",
   "version": "3.6.3"
  }
 },
 "nbformat": 4,
 "nbformat_minor": 2
}
